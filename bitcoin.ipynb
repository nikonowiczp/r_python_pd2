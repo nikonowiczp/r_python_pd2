{
 "cells": [
  {
   "cell_type": "code",
   "execution_count": 9,
   "metadata": {},
   "outputs": [],
   "source": [
    "import numpy as np\n",
    "import pandas as pd\n",
    "import matplotlib.pyplot as plt\n",
    "# pd.set_option(\"display.notebook_repr_html\", False)  # disable \"rich\" output\n",
    "# plt.style.use(\"seaborn\")  # plot style\n",
    "\n",
    "# sns.set_palette([  # the \"R4\" palette\n",
    "#     \"#000000\", \"#DF536B\", \"#61D04F\", \"#2297E6\",\n",
    "#     \"#28E2E5\", \"#CD0BBC\", \"#F5C710\", \"#999999\"\n",
    "# ])\n",
    "\n",
    "# plt.rcParams.update({\n",
    "#     \"font.size\":         11,\n",
    "#     \"font.family\":       \"sans-serif\",\n",
    "#     \"font.sans-serif\":   [\"Alegreya Sans\", \"Alegreya\"],\n",
    "#     \"figure.autolayout\": True,\n",
    "#     \"figure.dpi\":        300,\n",
    "#     \"figure.figsize\":    (6, 3.5),  # default is [8.0, 5.5],\n",
    "# })\n"
   ]
  },
  {
   "cell_type": "code",
   "execution_count": 10,
   "metadata": {},
   "outputs": [],
   "source": [
    "# wczytanie danych\n",
    "posts = pd.read_xml(\"bitcoin/Posts.xml\", parser = 'etree', )\n",
    "comments = pd.read_xml(\"bitcoin/Comments.xml\", parser = 'etree', )\n",
    "votes = pd.read_xml(\"bitcoin/Votes.xml\", parser = 'etree', )\n",
    "\n",
    "# usunięcie wpisów NaN"
   ]
  },
  {
   "cell_type": "code",
   "execution_count": 11,
   "metadata": {},
   "outputs": [],
   "source": [
    "# zmniejszenie wymiarów tabeli\n",
    "posts = posts[['Id',\"Body\", 'Tags', 'CreationDate']]"
   ]
  },
  {
   "cell_type": "code",
   "execution_count": 12,
   "metadata": {},
   "outputs": [],
   "source": [
    "# sprawdzenie czy post jest o kopaniu kryptowalut\n",
    "\n",
    "posts[\"IsAboutMining\"] = posts.Body.str.contains('mining') | posts.Tags.str.contains('mining') "
   ]
  },
  {
   "cell_type": "code",
   "execution_count": 13,
   "metadata": {},
   "outputs": [],
   "source": [
    "# Przygotowaine ramek\n",
    "posts[\"CreationDate\"] = pd.to_datetime(posts['CreationDate'],format='%Y-%m-%d')\n",
    "posts[\"CreationMonth\"] = posts[\"CreationDate\"].dt.strftime('%m-%Y')\n",
    "posts[\"CreationDate\"] = posts[\"CreationDate\"].dt.date\n",
    "\n",
    "comments[\"CreationDate\"] = pd.to_datetime(comments['CreationDate'],format='%Y-%m-%d')\n",
    "comments[\"CreationMonth\"] = comments[\"CreationDate\"].dt.strftime('%m-%Y')\n",
    "comments[\"CreationDate\"] = comments[\"CreationDate\"].dt.date\n",
    "\n",
    "votes[\"CreationDate\"] = pd.to_datetime(votes['CreationDate'],format='%Y-%m-%d')\n",
    "votes[\"CreationMonth\"] = votes[\"CreationDate\"].dt.strftime('%m-%Y')\n",
    "votes[\"CreationDate\"] = votes[\"CreationDate\"].dt.date"
   ]
  },
  {
   "cell_type": "code",
   "execution_count": null,
   "metadata": {},
   "outputs": [],
   "source": [
    "# srednia ilosc postó w miesiącu na przestrzeni lat\n",
    "plotData = posts.groupby([\"CreationMonth\"]).size().reset_index(name='Count')\n",
    "plotDataMining = posts[posts[\"IsAboutMining\"] == True]\n",
    "plotDataMining = plotDataMining.groupby([\"CreationMonth\"]).size().reset_index(name='Count')\n",
    "\n",
    "fig = plt.subplots(figsize=(12, 6))\n",
    "\n",
    "x = plotData[\"CreationMonth\"]\n",
    "y = plotData[\"Count\"]\n",
    "\n",
    "x_2 = plotDataMining[\"CreationMonth\"]\n",
    "y_2 = plotDataMining[\"Count\"]\n",
    "\n",
    "n = len(x)\n",
    "labelLocations=[]\n",
    "for i in range(10):\n",
    "    labelLocations.append(n*i/10)\n",
    "labelLocations.append(n-1)\n",
    "\n",
    "plt.plot(x,y, color='blue')\n",
    "plt.plot(x_2,y_2, color='red')\n",
    "\n",
    "plt.xticks(labelLocations)\n",
    "plt.legend(['First line', 'Second line'])\n",
    "\n",
    "plt.show()"
   ]
  },
  {
   "cell_type": "code",
   "execution_count": null,
   "metadata": {},
   "outputs": [],
   "source": [
    "# ogólna aktywność na forum\n",
    "\n",
    "fig2 = plt.subplots(figsize=(12, 6))\n",
    "\n",
    "# komentarze\n",
    "plotDataComments = comments[\"Id\",\"CreationMonth\"]\n",
    "plotDataMining = plotDataMining.groupby([\"CreationMonth\"]).size().reset_index(name='Count')\n",
    "x = plotData[\"CreationMonth\"]\n",
    "y = plotData[\"Count\"]\n",
    "\n",
    "# głosy\n",
    "plotDataVotes = votes[\"Id\",\"CreationMonth\" ]\n",
    "plotDataMining = plotDataMining.groupby([\"CreationMonth\"]).size().reset_index(name='Count')\n",
    "x = plotData[\"CreationMonth\"]\n",
    "y = plotData[\"Count\"]\n",
    "\n",
    "\n",
    "plt.plot(x,y, color='blue')\n",
    "plt.plot(x_2,y_2, color='red')\n",
    "\n",
    "plt.xticks(labelLocations)\n",
    "plt.legend(['First line', 'Second line'])"
   ]
  },
  {
   "cell_type": "code",
   "execution_count": null,
   "metadata": {},
   "outputs": [],
   "source": [
    "# ogolnie ilosc postów od daty\n",
    "posts = pd.read_plotDataml(\"homebrew-data/Posts.plotDataml\", parser = 'etree')"
   ]
  },
  {
   "cell_type": "code",
   "execution_count": null,
   "metadata": {},
   "outputs": [],
   "source": [
    "\n",
    "posts['CreationDateMonth'] = [datetime(int(date[0:4]), int(date[5:7]), 1) for date in posts.CreationDate]\n",
    "\n",
    "grouped_df = posts.groupby(by=posts.CreationDateMonth)['Id'].count().reset_indeplotData()\n",
    "\n",
    "grouped_df.rename(columns = {'CreationDateMonth':'Month', 'Id':'Count'}, inplace = True)\n",
    "grouped_df.sort_values(by = \"Month\", ascending=True, inplace=True)\n",
    "\n",
    "interval_df = grouped_df.resample('3m', on='Month').Count.sum()[1:].reset_indeplotData()\n",
    "\n",
    "ab = np.polyfit(np.arange(len(interval_df)), interval_df.Count.to_numpy(), deg=1) \n",
    "lineplotData = np.arange(len(interval_df))\n",
    "line_fun = lambda plotData: ab[0]*plotData + ab[1]\n",
    "plt.plot(interval_df['Month'], line_fun(lineplotData), color='red')\n",
    "\n",
    "plt.bar(interval_df['Month'], interval_df['Count'], width = 50, color='royalblue')\n",
    "plt.plotDataticks(interval_df['Month'], interval_df['Count'], rotation=60, fontsize='6', horizontalalignment='right')\n",
    "plt.gca().plotDataaplotDatais.set_major_formatter(mdates.DateFormatter('%Y-%m'))\n",
    "plt.title(\"Total number of posts every querter of a year\")\n",
    "plt.show()"
   ]
  },
  {
   "cell_type": "markdown",
   "metadata": {},
   "source": [
    "### co sie stało z tym forum?\n",
    "https://homebrew.meta.stackeplotDatachange.com/questions/486/what-happened-to-homebrewing"
   ]
  },
  {
   "cell_type": "markdown",
   "metadata": {},
   "source": [
    "# Badanie skoku w 2010\n",
    "Kto najczęciej zadawla pytania i kto najczesciej odpowiadał"
   ]
  },
  {
   "cell_type": "code",
   "execution_count": null,
   "metadata": {},
   "outputs": [],
   "source": [
    "posts = pd.read_plotDataml(\"homebrew-data/Posts.plotDataml\", parser = 'etree')\n",
    "users = pd.read_plotDataml(\"homebrew-data/Users.plotDataml\", parser = 'etree')"
   ]
  },
  {
   "cell_type": "code",
   "execution_count": null,
   "metadata": {},
   "outputs": [],
   "source": [
    "posts[\"CreationDate\"] = pd.to_datetime(posts['CreationDate'],format='%Y-%m-%d')\n",
    "posts[\"Year\"] = pd.DatetimeIndeplotData(posts['CreationDate']).year\n",
    "posts[\"Month\"] = pd.DatetimeIndeplotData(posts['CreationDate']).month\n",
    "posts[\"Day\"] = pd.DatetimeIndeplotData(posts['CreationDate']).day\n",
    "posts = posts[(posts.Month.isin(range(9,12+1))) & (posts.Year == 2010)]"
   ]
  },
  {
   "cell_type": "code",
   "execution_count": null,
   "metadata": {},
   "outputs": [],
   "source": [
    "plotData = posts.groupby(\"Day\").size()\n",
    "\n",
    "col = []\n",
    "for i in plotData.values: # keys are the names of the boys\n",
    "    if i >= 40:\n",
    "        col.append('darkorange')\n",
    "    else:\n",
    "        col.append('royalblue')\n",
    "\n",
    "plotData.plot(kind=\"bar\", color=col)\n",
    "plt.title(\"Distribution of number of posts in November 2010\")\n",
    "plt.show()"
   ]
  },
  {
   "cell_type": "markdown",
   "metadata": {},
   "source": [
    "## 8 listopada 2010 to byl start. Badanie nastepnych 10 dni bo widac ze też intensywne + porównanie z ogólnymi zależnościami\n",
    "\n",
    "# ile bylo wtedy postow a ile odpowiedzi"
   ]
  },
  {
   "cell_type": "code",
   "execution_count": null,
   "metadata": {},
   "outputs": [],
   "source": [
    "# Pytania czy odpowiedzi\n",
    "posts_all = pd.read_plotDataml(\"homebrew-data/Posts.plotDataml\", parser = 'etree')\n",
    "posts_high = posts[posts.Day.isin(range(8, 18+1))]\n",
    "posts_high[\"Type of post\"] = np.where(pd.isna(posts_high[\"ParentId\"]), 'Question', \"Answer\")\n"
   ]
  },
  {
   "cell_type": "code",
   "execution_count": null,
   "metadata": {},
   "outputs": [],
   "source": [
    "plotData_top = posts_high.groupby(\"Type of post\")['Type of post'].count()\n",
    "#plotData.plot.pie(colors=['lightblue', 'pink'], autopct = \"%.2f%%\")"
   ]
  },
  {
   "cell_type": "code",
   "execution_count": null,
   "metadata": {},
   "outputs": [],
   "source": [
    "\n",
    "posts_all[\"Type of post\"] = np.where(pd.isna(posts_all[\"ParentId\"]), 'Question', \"Answer\")\n",
    "plotData_all = posts_all.groupby(\"Type of post\")['Type of post'].count()\n",
    "#plotData.plot.pie(colors=['royalblue', 'palevioletred'], autopct = \"%.2f%%\")"
   ]
  },
  {
   "cell_type": "code",
   "execution_count": null,
   "metadata": {},
   "outputs": [],
   "source": [
    "top_q_perc = 100 * plotData_top[\"Question\"] / (plotData_top[\"Question\"] + plotData_top[\"Answer\"])\n",
    "top_a_perc = 100 - top_q_perc\n",
    "all_q_perc = 100 * plotData_all[\"Question\"] / (plotData_all[\"Question\"] + plotData_all[\"Answer\"])\n",
    "all_a_perc = 100 - all_q_perc"
   ]
  },
  {
   "cell_type": "code",
   "execution_count": null,
   "metadata": {},
   "outputs": [],
   "source": [
    "data_ranges = ['8-18.11.2010 posts','all posts']\n",
    "y_pos = [1, 2]\n",
    "a_perc = [top_a_perc, all_a_perc]\n",
    "\n",
    "q_perc = [top_q_perc, all_q_perc]\n",
    "\n",
    "fig = plt.figure()\n",
    "aplotData = fig.add_subplot(111)\n",
    "aplotData.barh(y_pos, a_perc, color='royalblue',label='answers')\n",
    "aplotData.barh(y_pos, q_perc, left=a_perc, color='palevioletred',label='questions')\n",
    "aplotData.set_yticks(y_pos, labels=data_ranges)\n",
    "aplotData.set_plotDatalabel('percentage')\n",
    "aplotData.set_title('Percentage of question and answers in posts')\n",
    "aplotData.legend(loc='upper left')\n",
    "plt.tight_layout()\n",
    "plt.show()"
   ]
  },
  {
   "cell_type": "markdown",
   "metadata": {},
   "source": [
    "## Najaktywniejsi autorzy postów"
   ]
  },
  {
   "cell_type": "code",
   "execution_count": null,
   "metadata": {},
   "outputs": [],
   "source": [
    "colors_bland = cm.Set3(np.arange(20))\n",
    "colors_vibrant = np.concatenate((cm.Set1(np.arange(6)), cm.Set2(np.arange(6))))"
   ]
  },
  {
   "cell_type": "code",
   "execution_count": null,
   "metadata": {},
   "outputs": [],
   "source": [
    "def circle_top10_authors_of_questions(posts_high, startangle, colors, title):\n",
    "    authors_high = pd.merge(\\\n",
    "        left=posts_high.loc[:, (\"Id\", \"Type of post\", \"OwnerUserId\")],\\\n",
    "        right=users.loc[:, (\"Id\", \"DisplayName\")], \\\n",
    "        left_on='OwnerUserId', \\\n",
    "        right_on='Id')\n",
    "    authors_high = authors_high.loc[:, (\"Type of post\", \"DisplayName\")]\n",
    "\n",
    "    qora = authors_high.groupby(\"Type of post\")\n",
    "    \n",
    "    q = qora.get_group(\"Question\")\n",
    "    q = q.groupby(\"DisplayName\").size().to_frame('PostCount')\n",
    "    q_all_count = q[\"PostCount\"].sum();\n",
    "    q = q.sort_values(by=\"PostCount\", ascending=False).head(10)\n",
    "    q_head_count = q[\"PostCount\"].sum();\n",
    "\n",
    "    row = pd.Series({'PostCount':q_all_count-q_head_count}, name=\"<Others>\")\n",
    "    q = q.append(row)\n",
    "\n",
    "\n",
    "    fig, aplotData = plt.subplots(figsize=(6, 6), subplot_kw=dict(aspect=\"equal\"))\n",
    "\n",
    "    wedges, teplotDatats = aplotData.pie(q.PostCount, wedgeprops=dict(width=0.5), startangle=startangle, \\\n",
    "        colors=colors)\n",
    "\n",
    "    bboplotData_props = dict(boplotDatastyle=\"square,pad=0.2\", fc=\"w\", ec=\"k\", lw=0.72)\n",
    "    kw = dict(arrowprops=dict(arrowstyle=\"-\"),\n",
    "            bboplotData=bboplotData_props, zorder=0, va=\"center\")\n",
    "\n",
    "    for i, p in enumerate(wedges):\n",
    "        ang = (p.theta2 - p.theta1)/2. + p.theta1\n",
    "        y = np.sin(np.deg2rad(ang))\n",
    "        plotData = np.cos(np.deg2rad(ang))\n",
    "        horizontalalignment = {-1: \"right\", 1: \"left\"}[int(np.sign(plotData))]\n",
    "        connectionstyle = \"angle,angleA=0,angleB={}\".format(ang)\n",
    "        kw[\"arrowprops\"].update({\"connectionstyle\": connectionstyle})\n",
    "        aplotData.annotate(q.indeplotData[i], plotDatay=(plotData, y), plotDatayteplotDatat=(1.35*np.sign(plotData), 1.5*y),\n",
    "                    horizontalalignment=horizontalalignment, **kw)\n",
    "\n",
    "    aplotData.set_title(title)\n",
    "\n",
    "    plt.show()"
   ]
  },
  {
   "cell_type": "code",
   "execution_count": null,
   "metadata": {},
   "outputs": [],
   "source": [
    "circle_top10_authors_of_questions(posts_high=posts_high, startangle=95, colors=colors_vibrant, title=\"\")\n",
    "circle_top10_authors_of_questions(posts_high=posts_all, startangle=150, colors=colors_bland, title=\"\")"
   ]
  },
  {
   "cell_type": "code",
   "execution_count": null,
   "metadata": {},
   "outputs": [],
   "source": [
    "def circle_top10_authors_of_answers(posts_high, startangle, colors, title=\"\"):\n",
    "    authors_high = pd.merge(\\\n",
    "        left=posts_high.loc[:, (\"Id\", \"Type of post\", \"OwnerUserId\")],\\\n",
    "        right=users.loc[:, (\"Id\", \"DisplayName\")], \\\n",
    "        left_on='OwnerUserId', \\\n",
    "        right_on='Id')\n",
    "    authors_high = authors_high.loc[:, (\"Type of post\", \"DisplayName\")]\n",
    "\n",
    "    qora = authors_high.groupby(\"Type of post\")\n",
    "    \n",
    "    a = qora.get_group(\"Answer\")\n",
    "    a = a.groupby(\"DisplayName\").size().to_frame('PostCount')\n",
    "    a_all_count = a[\"PostCount\"].sum();\n",
    "    a = a.sort_values(by=\"PostCount\", ascending=False).head(10)\n",
    "    a_head_count = a[\"PostCount\"].sum();\n",
    "\n",
    "    row = pd.Series({'PostCount':a_all_count-a_head_count}, name=\"<Others>\")\n",
    "    a = a.append(row)\n",
    "\n",
    "\n",
    "    fig, aplotData = plt.subplots(figsize=(6, 6), subplot_kw=dict(aspect=\"equal\"))\n",
    "\n",
    "    wedges, teplotDatats = aplotData.pie(a.PostCount, wedgeprops=dict(width=0.5), startangle=startangle, \\\n",
    "        colors=colors)\n",
    "\n",
    "    bboplotData_props = dict(boplotDatastyle=\"square,pad=0.2\", fc=\"w\", ec=\"k\", lw=0.72)\n",
    "    kw = dict(arrowprops=dict(arrowstyle=\"-\"),\n",
    "            bboplotData=bboplotData_props, zorder=0, va=\"center\")\n",
    "\n",
    "    for i, p in enumerate(wedges):\n",
    "        ang = (p.theta2 - p.theta1)/2. + p.theta1\n",
    "        y = np.sin(np.deg2rad(ang))\n",
    "        plotData = np.cos(np.deg2rad(ang))\n",
    "        horizontalalignment = {-1: \"right\", 1: \"left\"}[int(np.sign(plotData))]\n",
    "        connectionstyle = \"angle,angleA=0,angleB={}\".format(ang)\n",
    "        kw[\"arrowprops\"].update({\"connectionstyle\": connectionstyle})\n",
    "        aplotData.annotate(a.indeplotData[i], plotDatay=(plotData, y), plotDatayteplotDatat=(1.35*np.sign(plotData), 1.4*y),\n",
    "                    horizontalalignment=horizontalalignment, **kw)\n",
    "\n",
    "    aplotData.set_title(title)\n",
    "\n",
    "    plt.show()"
   ]
  },
  {
   "cell_type": "code",
   "execution_count": null,
   "metadata": {},
   "outputs": [],
   "source": [
    "circle_top10_authors_of_answers(posts_high=posts_high, startangle=95, colors=colors_vibrant)\n",
    "circle_top10_authors_of_answers(posts_high=posts_all, startangle=110, colors=colors_bland)"
   ]
  }
 ],
 "metadata": {
  "kernelspec": {
   "display_name": "Python 3.8.10 64-bit (windows store)",
   "language": "python",
   "name": "python3"
  },
  "language_info": {
   "codemirror_mode": {
    "name": "ipython",
    "version": 3
   },
   "file_extension": ".py",
   "mimetype": "text/x-python",
   "name": "python",
   "nbconvert_exporter": "python",
   "pygments_lexer": "ipython3",
   "version": "3.8.10"
  },
  "orig_nbformat": 4,
  "vscode": {
   "interpreter": {
    "hash": "461ab22012324855fe333368488a8266acda5ddaad8ab5ceb87564e70ad164db"
   }
  }
 },
 "nbformat": 4,
 "nbformat_minor": 2
}
